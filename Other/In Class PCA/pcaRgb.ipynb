{
 "cells": [
  {
   "cell_type": "markdown",
   "id": "1f57a0a1-738e-438e-a71e-45a4e1847b13",
   "metadata": {},
   "source": [
    "# PCA Example On Colors\n",
    "\n",
    "Color is an example where using PCA *without* normalizing the data makes sense. Dimensions of color representation are generally comparable and on a similar scale, reducing the need for normalization to a particular data set.\n",
    "\n",
    "Try this example with a few different images. It provides some a basis for comparing the relative merits of [RGB](https://en.wikipedia.org/wiki/RGB_color_model) vs. other representations such as [YCbCr](https://en.wikipedia.org/wiki/YCbCr) and [HSL](https://en.wikipedia.org/wiki/HSL_and_HSV)."
   ]
  },
  {
   "cell_type": "code",
   "execution_count": 3,
   "id": "6d98f33e-892f-475f-89f2-e303fba8792e",
   "metadata": {},
   "outputs": [],
   "source": [
    "import numpy as np\n",
    "import matplotlib.pyplot as plt\n",
    "from sklearn.metrics import mean_squared_error\n",
    "from sklearn.decomposition import PCA\n",
    "from skimage.io import imread # conda install scikit-image\n",
    "from skimage.transform import rescale\n",
    "import plotly.express as px"
   ]
  },
  {
   "cell_type": "code",
   "execution_count": 4,
   "id": "8689a046-62a9-484b-95bd-db0a01af08a6",
   "metadata": {},
   "outputs": [
    {
     "ename": "FileNotFoundError",
     "evalue": "No such file: 'c:\\Users\\arneyh\\CSC 5601 - Theory of Machine Learning\\Other\\In Class PCA\\06-IC7H2647c.jpg'",
     "output_type": "error",
     "traceback": [
      "\u001b[1;31m---------------------------------------------------------------------------\u001b[0m",
      "\u001b[1;31mFileNotFoundError\u001b[0m                         Traceback (most recent call last)",
      "Cell \u001b[1;32mIn[4], line 8\u001b[0m\n\u001b[0;32m      1\u001b[0m \u001b[38;5;66;03m# Load an image\u001b[39;00m\n\u001b[0;32m      2\u001b[0m \n\u001b[0;32m      3\u001b[0m \u001b[38;5;66;03m# Use your own JPEG file, or grab one such as this:\u001b[39;00m\n\u001b[0;32m      4\u001b[0m \u001b[38;5;66;03m# https://edurant.smugmug.com/Portfolio/2007-Calendar/i-jFDZXNX/A\u001b[39;00m\n\u001b[0;32m      5\u001b[0m \n\u001b[0;32m      6\u001b[0m \u001b[38;5;66;03m#filepath = 'IMG_5818.JPEG'\u001b[39;00m\n\u001b[0;32m      7\u001b[0m filepath \u001b[38;5;241m=\u001b[39m \u001b[38;5;124m'\u001b[39m\u001b[38;5;124m06-IC7H2647c.jpg\u001b[39m\u001b[38;5;124m'\u001b[39m\n\u001b[1;32m----> 8\u001b[0m image \u001b[38;5;241m=\u001b[39m \u001b[43mimread\u001b[49m\u001b[43m(\u001b[49m\u001b[43mfilepath\u001b[49m\u001b[43m)\u001b[49m\n\u001b[0;32m      9\u001b[0m \u001b[38;5;28;01mif\u001b[39;00m \u001b[38;5;28;01mTrue\u001b[39;00m: \u001b[38;5;66;03m# original size\u001b[39;00m\n\u001b[0;32m     10\u001b[0m     image \u001b[38;5;241m=\u001b[39m image\u001b[38;5;241m.\u001b[39mastype(\u001b[38;5;124m'\u001b[39m\u001b[38;5;124mfloat64\u001b[39m\u001b[38;5;124m'\u001b[39m)\u001b[38;5;241m/\u001b[39m\u001b[38;5;241m256\u001b[39m\n",
      "File \u001b[1;32m~\\AppData\\Local\\Packages\\PythonSoftwareFoundation.Python.3.11_qbz5n2kfra8p0\\LocalCache\\local-packages\\Python311\\site-packages\\skimage\\io\\_io.py:60\u001b[0m, in \u001b[0;36mimread\u001b[1;34m(fname, as_gray, plugin, **plugin_args)\u001b[0m\n\u001b[0;32m     57\u001b[0m         plugin \u001b[38;5;241m=\u001b[39m \u001b[38;5;124m'\u001b[39m\u001b[38;5;124mtifffile\u001b[39m\u001b[38;5;124m'\u001b[39m\n\u001b[0;32m     59\u001b[0m \u001b[38;5;28;01mwith\u001b[39;00m file_or_url_context(fname) \u001b[38;5;28;01mas\u001b[39;00m fname:\n\u001b[1;32m---> 60\u001b[0m     img \u001b[38;5;241m=\u001b[39m \u001b[43mcall_plugin\u001b[49m\u001b[43m(\u001b[49m\u001b[38;5;124;43m'\u001b[39;49m\u001b[38;5;124;43mimread\u001b[39;49m\u001b[38;5;124;43m'\u001b[39;49m\u001b[43m,\u001b[49m\u001b[43m \u001b[49m\u001b[43mfname\u001b[49m\u001b[43m,\u001b[49m\u001b[43m \u001b[49m\u001b[43mplugin\u001b[49m\u001b[38;5;241;43m=\u001b[39;49m\u001b[43mplugin\u001b[49m\u001b[43m,\u001b[49m\u001b[43m \u001b[49m\u001b[38;5;241;43m*\u001b[39;49m\u001b[38;5;241;43m*\u001b[39;49m\u001b[43mplugin_args\u001b[49m\u001b[43m)\u001b[49m\n\u001b[0;32m     62\u001b[0m \u001b[38;5;28;01mif\u001b[39;00m \u001b[38;5;129;01mnot\u001b[39;00m \u001b[38;5;28mhasattr\u001b[39m(img, \u001b[38;5;124m'\u001b[39m\u001b[38;5;124mndim\u001b[39m\u001b[38;5;124m'\u001b[39m):\n\u001b[0;32m     63\u001b[0m     \u001b[38;5;28;01mreturn\u001b[39;00m img\n",
      "File \u001b[1;32m~\\AppData\\Local\\Packages\\PythonSoftwareFoundation.Python.3.11_qbz5n2kfra8p0\\LocalCache\\local-packages\\Python311\\site-packages\\skimage\\io\\manage_plugins.py:217\u001b[0m, in \u001b[0;36mcall_plugin\u001b[1;34m(kind, *args, **kwargs)\u001b[0m\n\u001b[0;32m    214\u001b[0m     \u001b[38;5;28;01mexcept\u001b[39;00m \u001b[38;5;167;01mIndexError\u001b[39;00m:\n\u001b[0;32m    215\u001b[0m         \u001b[38;5;28;01mraise\u001b[39;00m \u001b[38;5;167;01mRuntimeError\u001b[39;00m(\u001b[38;5;124mf\u001b[39m\u001b[38;5;124m'\u001b[39m\u001b[38;5;124mCould not find the plugin \u001b[39m\u001b[38;5;124m\"\u001b[39m\u001b[38;5;132;01m{\u001b[39;00mplugin\u001b[38;5;132;01m}\u001b[39;00m\u001b[38;5;124m\"\u001b[39m\u001b[38;5;124m for \u001b[39m\u001b[38;5;132;01m{\u001b[39;00mkind\u001b[38;5;132;01m}\u001b[39;00m\u001b[38;5;124m.\u001b[39m\u001b[38;5;124m'\u001b[39m)\n\u001b[1;32m--> 217\u001b[0m \u001b[38;5;28;01mreturn\u001b[39;00m \u001b[43mfunc\u001b[49m\u001b[43m(\u001b[49m\u001b[38;5;241;43m*\u001b[39;49m\u001b[43margs\u001b[49m\u001b[43m,\u001b[49m\u001b[43m \u001b[49m\u001b[38;5;241;43m*\u001b[39;49m\u001b[38;5;241;43m*\u001b[39;49m\u001b[43mkwargs\u001b[49m\u001b[43m)\u001b[49m\n",
      "File \u001b[1;32m~\\AppData\\Local\\Packages\\PythonSoftwareFoundation.Python.3.11_qbz5n2kfra8p0\\LocalCache\\local-packages\\Python311\\site-packages\\skimage\\io\\_plugins\\imageio_plugin.py:11\u001b[0m, in \u001b[0;36mimread\u001b[1;34m(*args, **kwargs)\u001b[0m\n\u001b[0;32m      9\u001b[0m \u001b[38;5;129m@wraps\u001b[39m(imageio_imread)\n\u001b[0;32m     10\u001b[0m \u001b[38;5;28;01mdef\u001b[39;00m \u001b[38;5;21mimread\u001b[39m(\u001b[38;5;241m*\u001b[39margs, \u001b[38;5;241m*\u001b[39m\u001b[38;5;241m*\u001b[39mkwargs):\n\u001b[1;32m---> 11\u001b[0m     out \u001b[38;5;241m=\u001b[39m np\u001b[38;5;241m.\u001b[39masarray(\u001b[43mimageio_imread\u001b[49m\u001b[43m(\u001b[49m\u001b[38;5;241;43m*\u001b[39;49m\u001b[43margs\u001b[49m\u001b[43m,\u001b[49m\u001b[43m \u001b[49m\u001b[38;5;241;43m*\u001b[39;49m\u001b[38;5;241;43m*\u001b[39;49m\u001b[43mkwargs\u001b[49m\u001b[43m)\u001b[49m)\n\u001b[0;32m     12\u001b[0m     \u001b[38;5;28;01mif\u001b[39;00m \u001b[38;5;129;01mnot\u001b[39;00m out\u001b[38;5;241m.\u001b[39mflags[\u001b[38;5;124m'\u001b[39m\u001b[38;5;124mWRITEABLE\u001b[39m\u001b[38;5;124m'\u001b[39m]:\n\u001b[0;32m     13\u001b[0m         out \u001b[38;5;241m=\u001b[39m out\u001b[38;5;241m.\u001b[39mcopy()\n",
      "File \u001b[1;32m~\\AppData\\Local\\Packages\\PythonSoftwareFoundation.Python.3.11_qbz5n2kfra8p0\\LocalCache\\local-packages\\Python311\\site-packages\\imageio\\v3.py:53\u001b[0m, in \u001b[0;36mimread\u001b[1;34m(uri, index, plugin, extension, format_hint, **kwargs)\u001b[0m\n\u001b[0;32m     50\u001b[0m \u001b[38;5;28;01mif\u001b[39;00m index \u001b[38;5;129;01mis\u001b[39;00m \u001b[38;5;129;01mnot\u001b[39;00m \u001b[38;5;28;01mNone\u001b[39;00m:\n\u001b[0;32m     51\u001b[0m     call_kwargs[\u001b[38;5;124m\"\u001b[39m\u001b[38;5;124mindex\u001b[39m\u001b[38;5;124m\"\u001b[39m] \u001b[38;5;241m=\u001b[39m index\n\u001b[1;32m---> 53\u001b[0m \u001b[38;5;28;01mwith\u001b[39;00m \u001b[43mimopen\u001b[49m\u001b[43m(\u001b[49m\u001b[43muri\u001b[49m\u001b[43m,\u001b[49m\u001b[43m \u001b[49m\u001b[38;5;124;43m\"\u001b[39;49m\u001b[38;5;124;43mr\u001b[39;49m\u001b[38;5;124;43m\"\u001b[39;49m\u001b[43m,\u001b[49m\u001b[43m \u001b[49m\u001b[38;5;241;43m*\u001b[39;49m\u001b[38;5;241;43m*\u001b[39;49m\u001b[43mplugin_kwargs\u001b[49m\u001b[43m)\u001b[49m \u001b[38;5;28;01mas\u001b[39;00m img_file:\n\u001b[0;32m     54\u001b[0m     \u001b[38;5;28;01mreturn\u001b[39;00m np\u001b[38;5;241m.\u001b[39masarray(img_file\u001b[38;5;241m.\u001b[39mread(\u001b[38;5;241m*\u001b[39m\u001b[38;5;241m*\u001b[39mcall_kwargs))\n",
      "File \u001b[1;32m~\\AppData\\Local\\Packages\\PythonSoftwareFoundation.Python.3.11_qbz5n2kfra8p0\\LocalCache\\local-packages\\Python311\\site-packages\\imageio\\core\\imopen.py:113\u001b[0m, in \u001b[0;36mimopen\u001b[1;34m(uri, io_mode, plugin, extension, format_hint, legacy_mode, **kwargs)\u001b[0m\n\u001b[0;32m    111\u001b[0m     request\u001b[38;5;241m.\u001b[39mformat_hint \u001b[38;5;241m=\u001b[39m format_hint\n\u001b[0;32m    112\u001b[0m \u001b[38;5;28;01melse\u001b[39;00m:\n\u001b[1;32m--> 113\u001b[0m     request \u001b[38;5;241m=\u001b[39m \u001b[43mRequest\u001b[49m\u001b[43m(\u001b[49m\u001b[43muri\u001b[49m\u001b[43m,\u001b[49m\u001b[43m \u001b[49m\u001b[43mio_mode\u001b[49m\u001b[43m,\u001b[49m\u001b[43m \u001b[49m\u001b[43mformat_hint\u001b[49m\u001b[38;5;241;43m=\u001b[39;49m\u001b[43mformat_hint\u001b[49m\u001b[43m,\u001b[49m\u001b[43m \u001b[49m\u001b[43mextension\u001b[49m\u001b[38;5;241;43m=\u001b[39;49m\u001b[43mextension\u001b[49m\u001b[43m)\u001b[49m\n\u001b[0;32m    115\u001b[0m source \u001b[38;5;241m=\u001b[39m \u001b[38;5;124m\"\u001b[39m\u001b[38;5;124m<bytes>\u001b[39m\u001b[38;5;124m\"\u001b[39m \u001b[38;5;28;01mif\u001b[39;00m \u001b[38;5;28misinstance\u001b[39m(uri, \u001b[38;5;28mbytes\u001b[39m) \u001b[38;5;28;01melse\u001b[39;00m uri\n\u001b[0;32m    117\u001b[0m \u001b[38;5;66;03m# fast-path based on plugin\u001b[39;00m\n\u001b[0;32m    118\u001b[0m \u001b[38;5;66;03m# (except in legacy mode)\u001b[39;00m\n",
      "File \u001b[1;32m~\\AppData\\Local\\Packages\\PythonSoftwareFoundation.Python.3.11_qbz5n2kfra8p0\\LocalCache\\local-packages\\Python311\\site-packages\\imageio\\core\\request.py:247\u001b[0m, in \u001b[0;36mRequest.__init__\u001b[1;34m(self, uri, mode, extension, format_hint, **kwargs)\u001b[0m\n\u001b[0;32m    244\u001b[0m     \u001b[38;5;28;01mraise\u001b[39;00m \u001b[38;5;167;01mValueError\u001b[39;00m(\u001b[38;5;124mf\u001b[39m\u001b[38;5;124m\"\u001b[39m\u001b[38;5;124mInvalid Request.Mode: \u001b[39m\u001b[38;5;132;01m{\u001b[39;00mmode\u001b[38;5;132;01m}\u001b[39;00m\u001b[38;5;124m\"\u001b[39m)\n\u001b[0;32m    246\u001b[0m \u001b[38;5;66;03m# Parse what was given\u001b[39;00m\n\u001b[1;32m--> 247\u001b[0m \u001b[38;5;28;43mself\u001b[39;49m\u001b[38;5;241;43m.\u001b[39;49m\u001b[43m_parse_uri\u001b[49m\u001b[43m(\u001b[49m\u001b[43muri\u001b[49m\u001b[43m)\u001b[49m\n\u001b[0;32m    249\u001b[0m \u001b[38;5;66;03m# Set extension\u001b[39;00m\n\u001b[0;32m    250\u001b[0m \u001b[38;5;28;01mif\u001b[39;00m extension \u001b[38;5;129;01mis\u001b[39;00m \u001b[38;5;129;01mnot\u001b[39;00m \u001b[38;5;28;01mNone\u001b[39;00m:\n",
      "File \u001b[1;32m~\\AppData\\Local\\Packages\\PythonSoftwareFoundation.Python.3.11_qbz5n2kfra8p0\\LocalCache\\local-packages\\Python311\\site-packages\\imageio\\core\\request.py:407\u001b[0m, in \u001b[0;36mRequest._parse_uri\u001b[1;34m(self, uri)\u001b[0m\n\u001b[0;32m    404\u001b[0m \u001b[38;5;28;01mif\u001b[39;00m is_read_request:\n\u001b[0;32m    405\u001b[0m     \u001b[38;5;66;03m# Reading: check that the file exists (but is allowed a dir)\u001b[39;00m\n\u001b[0;32m    406\u001b[0m     \u001b[38;5;28;01mif\u001b[39;00m \u001b[38;5;129;01mnot\u001b[39;00m os\u001b[38;5;241m.\u001b[39mpath\u001b[38;5;241m.\u001b[39mexists(fn):\n\u001b[1;32m--> 407\u001b[0m         \u001b[38;5;28;01mraise\u001b[39;00m \u001b[38;5;167;01mFileNotFoundError\u001b[39;00m(\u001b[38;5;124m\"\u001b[39m\u001b[38;5;124mNo such file: \u001b[39m\u001b[38;5;124m'\u001b[39m\u001b[38;5;132;01m%s\u001b[39;00m\u001b[38;5;124m'\u001b[39m\u001b[38;5;124m\"\u001b[39m \u001b[38;5;241m%\u001b[39m fn)\n\u001b[0;32m    408\u001b[0m \u001b[38;5;28;01melse\u001b[39;00m:\n\u001b[0;32m    409\u001b[0m     \u001b[38;5;66;03m# Writing: check that the directory to write to does exist\u001b[39;00m\n\u001b[0;32m    410\u001b[0m     dn \u001b[38;5;241m=\u001b[39m os\u001b[38;5;241m.\u001b[39mpath\u001b[38;5;241m.\u001b[39mdirname(fn)\n",
      "\u001b[1;31mFileNotFoundError\u001b[0m: No such file: 'c:\\Users\\arneyh\\CSC 5601 - Theory of Machine Learning\\Other\\In Class PCA\\06-IC7H2647c.jpg'"
     ]
    }
   ],
   "source": [
    "# Load an image\n",
    "\n",
    "# Use your own JPEG file, or grab one such as this:\n",
    "# https://edurant.smugmug.com/Portfolio/2007-Calendar/i-jFDZXNX/A\n",
    "\n",
    "#filepath = 'IMG_5818.JPEG'\n",
    "filepath = '06-IC7H2647c.jpg'\n",
    "image = imread(filepath)\n",
    "if True: # original size\n",
    "    image = image.astype('float64')/256\n",
    "else: # rescale to fixed area; speed up calculations for large images\n",
    "    scale = 200/np.sqrt(np.prod(image.shape[:-1]))\n",
    "    image = rescale(image, (scale,scale,1), anti_aliasing=True)\n",
    "image.shape"
   ]
  },
  {
   "cell_type": "code",
   "execution_count": null,
   "id": "7b6e404c-6efe-45e2-8ec2-1afb64b86522",
   "metadata": {},
   "outputs": [],
   "source": [
    "plt.imshow(image)\n",
    "plt.title('Original Image')\n",
    "plt.show()"
   ]
  },
  {
   "cell_type": "markdown",
   "id": "6ea18684-2731-4541-ba18-3b9b7a07cff3",
   "metadata": {},
   "source": [
    "# PCA on Original RGB Data"
   ]
  },
  {
   "cell_type": "code",
   "execution_count": null,
   "id": "0515c3c9-20d1-483c-b1eb-7e65bfdc439e",
   "metadata": {},
   "outputs": [],
   "source": [
    "data = image.reshape(-1, 3) # Flatten the image data for PCA on colors\n",
    "\n",
    "pca = PCA(n_components=3)\n",
    "transformed_data = pca.fit_transform(data)\n",
    "\n",
    "print(data.dtype)\n",
    "print(data.shape)\n",
    "mean_pixel = np.mean(data, axis=0)\n",
    "print(\"Mean pixel:\", mean_pixel)\n",
    "print(\"Pixel standard deviation:\", np.std(data, axis=0))"
   ]
  },
  {
   "cell_type": "code",
   "execution_count": null,
   "id": "e43fbed8-0c9a-47fc-8be5-81c4ac6a1834",
   "metadata": {},
   "outputs": [],
   "source": [
    "# Extract the principal components\n",
    "components = pca.components_\n",
    "print(\"Components:\", components)\n",
    "print(\"Explained Variance Ratio: \", pca.explained_variance_ratio_)\n",
    "\n",
    "# Reconstruct the image using only the first principal component\n",
    "reconstructed_1 = mean_pixel + np.outer(transformed_data[:, 0], components[0])\n",
    "reconstructed_1_image = reconstructed_1.reshape(image.shape).clip(0, 1)\n",
    "\n",
    "print(\"Image from 1 component…\")\n",
    "print(\"Mean squared error:\", sklearn.metrics.mean_squared_error(image.flat, reconstructed_1_image.flat))\n",
    "print(\"Shape:\", reconstructed_1.shape)\n",
    "print(\"Min:\", np.min(reconstructed_1, axis=0))\n",
    "print(\"Mean:\", np.mean(reconstructed_1, axis=0))\n",
    "print(\"Std:\", np.std(reconstructed_1, axis=0))\n",
    "print(\"Max:\", np.max(reconstructed_1, axis=0))\n",
    "\n",
    "# Reconstruct the image using the first two principal components\n",
    "reconstructed_2 = reconstructed_1 + np.outer(transformed_data[:, 1], components[1])\n",
    "reconstructed_2_image = reconstructed_2.reshape(image.shape).clip(0, 1)\n",
    "print(\"2 PCs: Mean squared error:\", sklearn.metrics.mean_squared_error(image.flat, reconstructed_2_image.flat))\n",
    "\n",
    "# Reconstruct the image using the first two principal components\n",
    "reconstructed_3 = reconstructed_2 + np.outer(transformed_data[:, 2], components[2])\n",
    "reconstructed_3_image = reconstructed_3.reshape(image.shape).clip(0, 1)\n",
    "print(\"3 PCs: Mean squared error:\", sklearn.metrics.mean_squared_error(image.flat, reconstructed_3_image.flat))\n",
    "\n",
    "# Display the reconstructed images\n",
    "fig, ax = plt.subplots(1, 3, figsize=(12, 6))\n",
    "ax[0].imshow(reconstructed_1_image)\n",
    "ax[0].set_title('Reconstruction with 1st PC')\n",
    "ax[1].imshow(reconstructed_2_image)\n",
    "ax[1].set_title('Reconstruction with First 2 PCs')\n",
    "ax[2].imshow(reconstructed_3_image)\n",
    "ax[2].set_title('Reconstruction with First 3 PCs')\n",
    "plt.show()"
   ]
  },
  {
   "cell_type": "markdown",
   "id": "527f1660-9334-4184-acb8-c48d84fba00c",
   "metadata": {},
   "source": [
    "## Show the contribution of each color component"
   ]
  },
  {
   "cell_type": "code",
   "execution_count": null,
   "id": "c5ebd75c-45ab-4c1e-afd5-3cb309a484b1",
   "metadata": {},
   "outputs": [],
   "source": [
    "weights = np.linspace(-2, 2, 400)\n",
    "\n",
    "fig, axes = plt.subplots(1, 3, figsize=(10, 2))\n",
    "for i in range(3):\n",
    "    # Calculate the spectrum for each principal component\n",
    "    spectrum = np.outer(weights, pca.components_[i]) + pca.mean_\n",
    "    spectrum = np.clip(spectrum, 0, 1) # valid color range\n",
    "    # Plot each spectrum\n",
    "    axes[i].imshow([spectrum], aspect='auto')\n",
    "    axes[i].set_title(f'Component {i+1}')\n",
    "    axes[i].axis('off')\n",
    "plt.tight_layout()\n",
    "plt.show()"
   ]
  },
  {
   "cell_type": "markdown",
   "id": "05503b1c-87a6-4841-937e-cb022f62ea32",
   "metadata": {},
   "source": [
    "# Projection Where First Component is Brightness"
   ]
  },
  {
   "cell_type": "code",
   "execution_count": null,
   "id": "15a8fd92-5ec4-4968-ad30-d1d38f1a5bfd",
   "metadata": {
    "scrolled": true
   },
   "outputs": [],
   "source": [
    "# Define the brightness vector\n",
    "brightness = np.array([1, 1, 1]) / np.sqrt(3)\n",
    "brightness_projection = data.dot(brightness)\n",
    "\n",
    "# Remove the brightness component\n",
    "data_without_brightness = data - np.outer(brightness_projection, brightness)\n",
    "\n",
    "mean_pixel_b = np.mean(data_without_brightness, axis=0)\n",
    "print(\"Brightness removed pixel data…\")\n",
    "print(\"Min:\", np.min(data_without_brightness, axis=0))\n",
    "print(\"Mean:\", mean_pixel_b)\n",
    "print(\"Mean of mean pixel:\", np.mean(mean_pixel_b))\n",
    "print(\"Std:\", np.std(data_without_brightness, axis=0))\n",
    "print(\"Max:\", np.max(data_without_brightness, axis=0))\n",
    "\n",
    "# PCA on the data from which brightness has been removed\n",
    "pca_no_brightness = PCA(n_components=2)\n",
    "transformed_no_brightness = pca_no_brightness.fit_transform(data_without_brightness)\n",
    "\n",
    "# Reconstruct the image using only the brightness vector\n",
    "reconstructed_1b = np.outer(brightness_projection, brightness)\n",
    "reconstructed_1b_image = reconstructed_1b.reshape(image.shape).clip(0, 1)\n",
    "print(\"Brightness: Mean squared error:\", sklearn.metrics.mean_squared_error(image.flat, reconstructed_1b_image.flat))\n",
    "\n",
    "# Add the projection of the first principal component after brightness removal\n",
    "reconstructed_2b = mean_pixel_b + reconstructed_1b + np.outer(transformed_no_brightness[:, 0], pca_no_brightness.components_[0])\n",
    "reconstructed_2b_image = reconstructed_2b.reshape(image.shape).clip(0, 1)\n",
    "print(\"Brightness + x̄ + 1 PC: Mean squared error:\", sklearn.metrics.mean_squared_error(image.flat, reconstructed_2b_image.flat))\n",
    "\n",
    "# Add the projection of the second principal component after brightness removal\n",
    "reconstructed_3b = reconstructed_2b + np.outer(transformed_no_brightness[:, 1], pca_no_brightness.components_[1])\n",
    "reconstructed_3b_image = reconstructed_3b.reshape(image.shape).clip(0, 1)\n",
    "print(\"Brightness + x̄ + 2 PCs: Mean squared error:\", sklearn.metrics.mean_squared_error(image.flat, reconstructed_3b_image.flat))\n",
    "\n",
    "# Display the reconstructed images\n",
    "fig, ax = plt.subplots(1, 3, figsize=(12, 6))\n",
    "ax[0].imshow(reconstructed_1b_image)\n",
    "ax[0].set_title('Brightness')\n",
    "ax[1].imshow(reconstructed_2b_image)\n",
    "ax[1].set_title('Brightness + x̄ + 1 PCA Component')\n",
    "ax[2].imshow(reconstructed_3b_image)\n",
    "ax[2].set_title('Brightness + x̄ + 2 PCA Components')\n",
    "plt.show()"
   ]
  },
  {
   "cell_type": "markdown",
   "id": "ede4d307-c4d8-4f81-86b1-a727855a02f3",
   "metadata": {},
   "source": [
    "## Show the contribution of each color component"
   ]
  },
  {
   "cell_type": "code",
   "execution_count": null,
   "id": "26a06a56-c8fe-429c-8ae6-4f86c1d956fd",
   "metadata": {},
   "outputs": [],
   "source": [
    "weights = np.linspace(-2, 2, 400)\n",
    "fig, axes = plt.subplots(2, 2, figsize=(10, 2))\n",
    "for i in range(2):\n",
    "    # Calculate the spectrum for each principal component\n",
    "    spectrum_cent = np.outer(weights, pca_no_brightness.components_[i])\n",
    "    spectrum = spectrum_cent + mean_pixel_b\n",
    "    # Plot each spectrum\n",
    "    axes[0,i].imshow([spectrum.clip(0,1)], aspect='auto') # clip to valid color range\n",
    "    axes[0,i].set_title(f'Component {i+1} (Centered & Shifted)')\n",
    "    axes[0,i].axis('off')\n",
    "    axes[1,i].imshow([spectrum_cent.clip(0,1)], aspect='auto')\n",
    "    axes[1,i].axis('off')\n",
    "\n",
    "plt.tight_layout()\n",
    "plt.show()"
   ]
  },
  {
   "cell_type": "code",
   "execution_count": null,
   "id": "0c1ff9df-279d-44f9-bb43-b37cfa56d650",
   "metadata": {},
   "outputs": [],
   "source": []
  }
 ],
 "metadata": {
  "kernelspec": {
   "display_name": "Python 3 (ipykernel)",
   "language": "python",
   "name": "python3"
  },
  "language_info": {
   "codemirror_mode": {
    "name": "ipython",
    "version": 3
   },
   "file_extension": ".py",
   "mimetype": "text/x-python",
   "name": "python",
   "nbconvert_exporter": "python",
   "pygments_lexer": "ipython3",
   "version": "3.11.9"
  }
 },
 "nbformat": 4,
 "nbformat_minor": 5
}
